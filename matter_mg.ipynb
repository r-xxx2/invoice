{
 "cells": [
  {
   "cell_type": "code",
   "execution_count": 11,
   "source": [
    "import sqlite3\r\n",
    "\r\n",
    "dbname = \"Souzo.db\"\r\n",
    "\r\n",
    "customer_code = input(\"顧客コード\")\r\n",
    "customer_name = input(\"顧客名\")\r\n",
    "\r\n",
    "conn = sqlite3.connect(dbname)\r\n",
    "c = conn.cursor()\r\n",
    "\r\n",
    "# データの追加\r\n",
    "sql = \"insert into Customer(code, name) values(?,?);\"\r\n",
    "data = (customer_code, customer_name)\r\n",
    "# data = (9999, \"test\")\r\n",
    "c.execute(sql, data)\r\n",
    "\r\n",
    "# コミット\r\n",
    "c.execute(\"commit;\")\r\n",
    "# クローズ\r\n",
    "conn.close()\r\n"
   ],
   "outputs": [],
   "metadata": {}
  },
  {
   "cell_type": "code",
   "execution_count": null,
   "source": [],
   "outputs": [],
   "metadata": {}
  }
 ],
 "metadata": {
  "orig_nbformat": 4,
  "language_info": {
   "name": "python",
   "version": "3.7.4",
   "mimetype": "text/x-python",
   "codemirror_mode": {
    "name": "ipython",
    "version": 3
   },
   "pygments_lexer": "ipython3",
   "nbconvert_exporter": "python",
   "file_extension": ".py"
  },
  "kernelspec": {
   "name": "python3",
   "display_name": "Python 3.7.4 64-bit ('base': conda)"
  },
  "interpreter": {
   "hash": "5c5f5886227e24916e8fa7f66f9d86c8ff4a198a945587d9f0b399d1a3743544"
  }
 },
 "nbformat": 4,
 "nbformat_minor": 2
}