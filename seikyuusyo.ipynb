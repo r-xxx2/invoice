{
 "cells": [
  {
   "cell_type": "code",
   "execution_count": null,
   "source": [],
   "outputs": [],
   "metadata": {}
  }
 ],
 "metadata": {
  "orig_nbformat": 4,
  "language_info": {
   "name": "python",
   "version": "3.7.4"
  },
  "kernelspec": {
   "name": "python3",
   "display_name": "Python 3.7.4 64-bit ('base': conda)"
  },
  "interpreter": {
   "hash": "5c5f5886227e24916e8fa7f66f9d86c8ff4a198a945587d9f0b399d1a3743544"
  }
 },
 "nbformat": 4,
 "nbformat_minor": 2
}